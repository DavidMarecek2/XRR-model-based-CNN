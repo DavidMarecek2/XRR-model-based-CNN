{
 "cells": [
  {
   "cell_type": "markdown",
   "id": "2214ac7f-e467-4824-a0d8-947d8508b9f8",
   "metadata": {},
   "source": [
    " <!DOCTYPE html>\n",
    "<html>\n",
    "<head>\n",
    "  <title>ESI Drop_implementation</title>\n",
    "</head>\n",
    "<body>\n",
    "\n",
    "<h1>Implementation of the dropout into the dataset</h1>\n",
    "<p>Loading the normalized generated data and corresponding labels (normalized). Normalization of the data after the application of the dropout function. Saving the data.</p>\n",
    "\n",
    "\n",
    "</body>\n",
    "</html> "
   ]
  },
  {
   "cell_type": "code",
   "execution_count": 1,
   "id": "e4768827-c78f-447d-85a2-5387c8f4cb4b",
   "metadata": {},
   "outputs": [
    {
     "name": "stdout",
     "output_type": "stream",
     "text": [
      "Num GPUs Available:  1\n"
     ]
    }
   ],
   "source": [
    "import os\n",
    "os.environ['TF_CPP_MIN_LOG_LEVEL'] = '1' \n",
    "os.environ[\"CUDA_VISIBLE_DEVICES\"]=\"0\"\n",
    "\n",
    "import tensorflow as tf\n",
    "print(\"Num GPUs Available: \", len(tf.config.experimental.list_physical_devices('GPU')))\n",
    "import keras\n",
    "%matplotlib inline"
   ]
  },
  {
   "cell_type": "code",
   "execution_count": 2,
   "id": "793ed6d4-75cb-4e5d-af21-c01faa3ada74",
   "metadata": {},
   "outputs": [],
   "source": [
    "import matplotlib.pylab as plt\n",
    "import numpy as np\n",
    "import pickle\n",
    "from tqdm import tqdm\n",
    "import random\n",
    "\n",
    "from matplotlib import image\n",
    "from matplotlib import pyplot\n",
    "from matplotlib.pyplot import figure"
   ]
  },
  {
   "cell_type": "code",
   "execution_count": null,
   "id": "11399f21-9c38-4c60-9f96-dae32342fa9c",
   "metadata": {},
   "outputs": [],
   "source": []
  },
  {
   "cell_type": "code",
   "execution_count": 3,
   "id": "496214c3-a1d6-4365-a5d4-2d1a5cc49b10",
   "metadata": {},
   "outputs": [
    {
     "name": "stderr",
     "output_type": "stream",
     "text": [
      "100%|██████████| 1/1 [00:00<00:00, 3731.59it/s]"
     ]
    },
    {
     "name": "stdout",
     "output_type": "stream",
     "text": [
      "(50, 10)\n"
     ]
    },
    {
     "name": "stderr",
     "output_type": "stream",
     "text": [
      "\n"
     ]
    }
   ],
   "source": [
    "T = np.load(\"data_Norm.npy\")\n",
    "\n",
    "T = np.reshape(T, [50, 80*109])\n",
    "\n",
    "\n",
    "\n",
    "Labels = np.load('Label_Norm.npy', allow_pickle=True)\n",
    "\n",
    "\n",
    "label50=[]\n",
    "for i in tqdm(range (1)):\n",
    "    label50=np.append(label50,Labels)\n",
    "    \n",
    "\n",
    "label50 = np.reshape(label50, [50, 10])    \n",
    "print(label50.shape)\n",
    "    \n",
    "    \n",
    "np.save(\"training_Label_Drop.npy\", label50, allow_pickle=True)\n"
   ]
  },
  {
   "cell_type": "code",
   "execution_count": 4,
   "id": "f16f2216-0dd6-4366-b1d7-651256a1b2e4",
   "metadata": {},
   "outputs": [
    {
     "name": "stderr",
     "output_type": "stream",
     "text": [
      "100%|██████████| 50/50 [00:00<00:00, 64.59it/s]\n"
     ]
    }
   ],
   "source": [
    "target=T\n",
    "#print(target)\n",
    "\n",
    "from scipy.stats import poisson\n",
    "from numpy import inf\n",
    "\n",
    "\n",
    "#drop function\n",
    "def drop(x,drp):\n",
    "    layer = tf.keras.layers.Dropout(drp, input_shape=(2,))\n",
    "    outputs = layer(x, training=True)\n",
    "    outputs = outputs/(1/(1-drp)) #data normalization after dropout\n",
    "    return outputs    \n",
    "\n",
    "#noisytarget reflectivity values\n",
    "dtarget = []\n",
    "numberofimages = 50\n",
    "noisyr =[]\n",
    "for a in tqdm(range (numberofimages)):\n",
    "    drp = random.uniform(0, 1)\n",
    "    dropr = drop(target[a,:], drp)\n",
    "    dtarget.append(dropr)\n",
    "    \n",
    "    \n",
    "        "
   ]
  },
  {
   "cell_type": "code",
   "execution_count": 5,
   "id": "7de08d39-e60f-4120-a51d-c76d00a71b45",
   "metadata": {},
   "outputs": [],
   "source": [
    "dtarget_a = np.array(dtarget)\n",
    "dtarget_a = np.reshape(dtarget_a, [numberofimages,80,109])\n",
    "\n",
    "np.save(\"training_data_Drop.npy\", dtarget_a, allow_pickle=True)"
   ]
  },
  {
   "cell_type": "code",
   "execution_count": 6,
   "id": "988e75cf-c33c-4f62-a195-70c576fb4bbf",
   "metadata": {},
   "outputs": [
    {
     "name": "stderr",
     "output_type": "stream",
     "text": [
      "/tmp/ipykernel_80267/2042752549.py:1: RuntimeWarning: divide by zero encountered in log\n",
      "  plt.imshow(np.log(dtarget_a[10,:,:]))\n"
     ]
    },
    {
     "data": {
      "text/plain": [
       "<matplotlib.image.AxesImage at 0x7f04382a2400>"
      ]
     },
     "execution_count": 6,
     "metadata": {},
     "output_type": "execute_result"
    },
    {
     "data": {
      "image/png": "[encoded data removed]",
      "text/plain": [
       "<Figure size 432x288 with 1 Axes>"
      ]
     },
     "metadata": {
      "needs_background": "light"
     },
     "output_type": "display_data"
    }
   ],
   "source": [
    "plt.imshow(np.log(dtarget_a[10,:,:]))"
   ]
  },
  {
   "cell_type": "code",
   "execution_count": null,
   "id": "c89f20cd-0012-4922-87b8-12aff027f6c9",
   "metadata": {},
   "outputs": [],
   "source": []
  }
 ],
 "metadata": {
  "kernelspec": {
   "display_name": "Python 3",
   "language": "python",
   "name": "python3"
  },
  "language_info": {
   "codemirror_mode": {
    "name": "ipython",
    "version": 3
   },
   "file_extension": ".py",
   "mimetype": "text/x-python",
   "name": "python",
   "nbconvert_exporter": "python",
   "pygments_lexer": "ipython3",
   "version": "3.9.12"
  }
 },
 "nbformat": 4,
 "nbformat_minor": 5
}
